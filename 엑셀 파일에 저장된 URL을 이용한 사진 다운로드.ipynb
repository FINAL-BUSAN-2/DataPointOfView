{
 "cells": [
  {
   "cell_type": "code",
   "execution_count": 1,
   "id": "8fdd3249-f6e2-430c-969c-a0537958415d",
   "metadata": {},
   "outputs": [],
   "source": [
    "import os\n",
    "import pandas as pd\n",
    "import requests\n",
    "from tqdm import tqdm"
   ]
  },
  {
   "cell_type": "code",
   "execution_count": 2,
   "id": "7ed186d2-b585-4212-a133-b1d2553a1a22",
   "metadata": {},
   "outputs": [],
   "source": [
    "# Excel 파일이 있는 디렉토리 경로\n",
    "excel_directory = \"./excel/\"  \n",
    "\n",
    "# Excel 파일 확장자\n",
    "excel_extension = \".xlsx\"  \n",
    "\n",
    "# 이미지를 다운로드할 디렉토리 경로\n",
    "download_directory = \"./excel/\" "
   ]
  },
  {
   "cell_type": "code",
   "execution_count": 3,
   "id": "8e97d63c-a423-44e1-ba13-dfae4a5e2799",
   "metadata": {},
   "outputs": [],
   "source": [
    "# Excel 파일 목록을 가져옵니다.\n",
    "excel_files = [f for f in os.listdir(excel_directory) if f.endswith(excel_extension)]"
   ]
  },
  {
   "cell_type": "code",
   "execution_count": 4,
   "id": "c7b5e38a-3d93-4603-838d-ca2e94cc8336",
   "metadata": {},
   "outputs": [
    {
     "name": "stderr",
     "output_type": "stream",
     "text": [
      "Downloading images from LEG_EXTENTION_MACHINE.xlsx: 100%|████████████████████████████| 428/428 [04:40<00:00,  1.53it/s]\n",
      "Downloading images from LEG_PRESS_MACHINE.xlsx: 100%|████████████████████████████████| 452/452 [05:24<00:00,  1.39it/s]\n",
      "Downloading images from LEG_RAISE_CHAIR.xlsx: 100%|██████████████████████████████████| 465/465 [09:20<00:00,  1.21s/it]\n",
      "Downloading images from LYING_CHEST_PRESS_MACHINE.xlsx: 100%|████████████████████████| 596/596 [08:07<00:00,  1.22it/s]\n",
      "Downloading images from OVERHEAD_PRESS_MACHINE.xlsx: 100%|███████████████████████████| 454/454 [05:03<00:00,  1.50it/s]\n",
      "Downloading images from PEC_DEC_FLY_MACHINE.xlsx: 100%|██████████████████████████████| 234/234 [02:42<00:00,  1.44it/s]\n",
      "Downloading images from REVERSE_HYPER_MACHINE.xlsx: 100%|████████████████████████████| 242/242 [02:36<00:00,  1.54it/s]\n",
      "Downloading images from SCOTT_CURL_MACHINE.xlsx: 100%|███████████████████████████████| 437/437 [04:35<00:00,  1.58it/s]\n",
      "Downloading images from SEATED_CABLE_ROW_MACHINE.xlsx: 100%|█████████████████████████| 321/321 [03:15<00:00,  1.64it/s]\n",
      "Downloading images from SEATED_CALF_MACHINE.xlsx: 100%|██████████████████████████████| 301/301 [03:17<00:00,  1.53it/s]\n",
      "Downloading images from SEATED_CHEST_PRESS_MACHINE.xlsx: 100%|███████████████████████| 348/348 [03:20<00:00,  1.73it/s]\n",
      "Downloading images from SEATED_DIP_MACHINE.xlsx: 100%|███████████████████████████████| 128/128 [01:14<00:00,  1.73it/s]\n",
      "Downloading images from SEATED_LEG_PRESS_MACHINE.xlsx: 100%|█████████████████████████| 340/340 [03:09<00:00,  1.79it/s]\n",
      "Downloading images from SEATED_ROW_MACHINE.xlsx: 100%|███████████████████████████████| 388/388 [03:59<00:00,  1.62it/s]\n",
      "Downloading images from SHOULDER_PRESS_MACHINE.xlsx: 100%|███████████████████████████| 404/404 [03:36<00:00,  1.86it/s]\n",
      "Downloading images from SINGLE_LATERAL_RAISE_MACHINE.xlsx: 100%|█████████████████████| 579/579 [08:08<00:00,  1.18it/s]\n",
      "Downloading images from SMITH_MACHINE.xlsx: 100%|████████████████████████████████████| 447/447 [05:07<00:00,  1.45it/s]\n",
      "Downloading images from SPARC.xlsx: 100%|████████████████████████████████████████████| 475/475 [03:43<00:00,  2.12it/s]\n",
      "Downloading images from STANDING_FLY_MACHINE.xlsx: 100%|█████████████████████████████| 412/412 [06:35<00:00,  1.04it/s]\n",
      "Downloading images from TREADMILLS.xlsx: 100%|███████████████████████████████████████| 321/321 [02:47<00:00,  1.92it/s]\n",
      "Downloading images from WIDE_PULLDOWN_REAR_MACHINE.xlsx: 100%|███████████████████████| 497/497 [06:48<00:00,  1.22it/s]"
     ]
    },
    {
     "name": "stdout",
     "output_type": "stream",
     "text": [
      "작업 완료\n"
     ]
    },
    {
     "name": "stderr",
     "output_type": "stream",
     "text": [
      "\n"
     ]
    }
   ],
   "source": [
    "for excel_file in excel_files:\n",
    "    # 각 Excel 파일에 대한 작업을 수행한다.\n",
    "    excel_path = os.path.join(excel_directory, excel_file)\n",
    "    \n",
    "    # Excel 파일을 읽습니다.\n",
    "    df = pd.read_excel(excel_path)\n",
    "    \n",
    "    #폴더 생성\n",
    "    folder_name = os.path.splitext(excel_file)[0]\n",
    "    folder_path = os.path.join(download_directory, folder_name)\n",
    "    os.makedirs(folder_path, exist_ok=True)\n",
    "\n",
    "    # 이미지를 다운로드합니다.\n",
    "    for url in tqdm(df[0], desc=f\"Downloading images from {excel_file}\"):\n",
    "        try:\n",
    "            response = requests.get(url, timeout=60)\n",
    "            if response.status_code == 200:\n",
    "                # URL에서 파일 이름을 추출합니다.\n",
    "                file_name = os.path.basename(url)\n",
    "                image_path = os.path.join(folder_path, file_name)\n",
    "                \n",
    "                # 이미지를 저장합니다.\n",
    "                with open(image_path, 'wb') as image_file:\n",
    "                    image_file.write(response.content)\n",
    "        except Exception as e:\n",
    "            # 다운로드 오류가 발생한 경우 오류를 무시합니다.\n",
    "            pass\n",
    "\n",
    "print(\"작업 완료\")"
   ]
  },
  {
   "cell_type": "code",
   "execution_count": null,
   "id": "6b6c059a-1e17-4470-b3fb-b0969470be27",
   "metadata": {},
   "outputs": [],
   "source": []
  },
  {
   "cell_type": "code",
   "execution_count": null,
   "id": "49123f89-c98b-455c-b76e-8a5e4ec312ec",
   "metadata": {},
   "outputs": [],
   "source": []
  },
  {
   "cell_type": "code",
   "execution_count": null,
   "id": "25696bb2-d5bc-4e0e-878a-238b5dce0e59",
   "metadata": {},
   "outputs": [],
   "source": []
  },
  {
   "cell_type": "code",
   "execution_count": null,
   "id": "8d34146f-1f4b-4289-9657-f5065bcc6789",
   "metadata": {},
   "outputs": [],
   "source": []
  },
  {
   "cell_type": "code",
   "execution_count": null,
   "id": "831cc35c-7041-4452-bb74-b44c6291c0a1",
   "metadata": {},
   "outputs": [],
   "source": [
    "excel_files"
   ]
  },
  {
   "cell_type": "code",
   "execution_count": null,
   "id": "0619328a-95a8-4dde-b26b-bcc38638395f",
   "metadata": {},
   "outputs": [],
   "source": []
  },
  {
   "cell_type": "code",
   "execution_count": null,
   "id": "f88a1ed0-cf1a-4d03-9cb9-5df000a9ff20",
   "metadata": {},
   "outputs": [],
   "source": []
  },
  {
   "cell_type": "code",
   "execution_count": null,
   "id": "ef6e6fce-ed97-4d64-8362-34983cc06c59",
   "metadata": {},
   "outputs": [],
   "source": []
  },
  {
   "cell_type": "code",
   "execution_count": null,
   "id": "12957942-d4d1-4550-8874-47a454d889b2",
   "metadata": {},
   "outputs": [],
   "source": []
  },
  {
   "cell_type": "code",
   "execution_count": null,
   "id": "947100f1-3e81-4758-a71f-5d59b0024e85",
   "metadata": {},
   "outputs": [],
   "source": []
  },
  {
   "cell_type": "code",
   "execution_count": null,
   "id": "7efa979c-cb14-40a9-8721-fe891d7299a9",
   "metadata": {},
   "outputs": [],
   "source": []
  },
  {
   "cell_type": "code",
   "execution_count": null,
   "id": "c8d410b8-7d5f-49f1-9b66-749a6d28ee36",
   "metadata": {},
   "outputs": [],
   "source": []
  },
  {
   "cell_type": "code",
   "execution_count": null,
   "id": "c0fd7871-bb18-460f-8db8-923930413143",
   "metadata": {},
   "outputs": [],
   "source": []
  }
 ],
 "metadata": {
  "kernelspec": {
   "display_name": "busan_main",
   "language": "python",
   "name": "busan_main"
  },
  "language_info": {
   "codemirror_mode": {
    "name": "ipython",
    "version": 3
   },
   "file_extension": ".py",
   "mimetype": "text/x-python",
   "name": "python",
   "nbconvert_exporter": "python",
   "pygments_lexer": "ipython3",
   "version": "3.10.13"
  }
 },
 "nbformat": 4,
 "nbformat_minor": 5
}
