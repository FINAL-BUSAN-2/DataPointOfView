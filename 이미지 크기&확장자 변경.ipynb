{
 "cells": [
  {
   "cell_type": "code",
   "execution_count": 82,
   "id": "55060498-c2ae-43ee-90c8-4b5f918bd556",
   "metadata": {},
   "outputs": [],
   "source": [
    "from PIL import Image\n",
    "import os"
   ]
  },
  {
   "cell_type": "code",
   "execution_count": 83,
   "id": "944837d9-ad43-4e1f-b665-ecfa5ffb8ef5",
   "metadata": {},
   "outputs": [],
   "source": [
    "# 이미지가 저장되어 있는 디렉토리 경로\n",
    "root_directory  = './images'"
   ]
  },
  {
   "cell_type": "code",
   "execution_count": 84,
   "id": "5f3e3cb5-47e2-460f-8747-1ebdfa0ce292",
   "metadata": {},
   "outputs": [],
   "source": [
    "# 이미지를 새로 저장할 디렉토리 경로\n",
    "output_directory = './edited_images'\n",
    "\n",
    "# 이미지를 새로 저장할 디렉토리가 없다면 새로 만드는 코드.\n",
    "if not os.path.exists(output_directory):\n",
    "    os.mkdir(output_directory)"
   ]
  },
  {
   "cell_type": "code",
   "execution_count": 85,
   "id": "073f9a94-c374-43b7-ac47-f73fe78cf24e",
   "metadata": {},
   "outputs": [],
   "source": [
    "# 최상위 디렉토리 내의 모든 폴더 목록을 가져옵니다.\n",
    "folder_list = [folder for folder in os.listdir(root_directory) if os.path.isdir(os.path.join(root_directory, folder))]\n",
    "#folder_list"
   ]
  },
  {
   "cell_type": "code",
   "execution_count": 86,
   "id": "1741e179-e28d-4f7d-aceb-a0dcafde88f4",
   "metadata": {},
   "outputs": [
    {
     "name": "stdout",
     "output_type": "stream",
     "text": [
      "All images processed and saved!\n"
     ]
    }
   ],
   "source": [
    "#이미지가 저장될 경로의 폴더 생성하기.\n",
    "for folder in folder_list:\n",
    "    \n",
    "    # 출력 디렉토리 내에 원래 폴더와 동일한 이름의 폴더를 생성합니다.\n",
    "    output_folder_path = os.path.join(output_directory, folder)\n",
    "    if not os.path.exists(output_folder_path):\n",
    "        os.mkdir(output_folder_path)\n",
    "\n",
    "    #해당 폴더의 이미지 불러오기\n",
    "    ## 이미지 경로설정\n",
    "    call_images_path = os.path.join(root_directory, folder)\n",
    "    ## 이미지 불러오기\n",
    "    image_list = os.listdir(call_images_path)\n",
    "    \n",
    "    for idx, file_name in enumerate(image_list):\n",
    "        img = Image.open(root_directory+\"/\"+folder+\"/\"+ file_name)\n",
    "        \n",
    "        # 이미지의 크기를 224x224로 변경\n",
    "        img = img.resize((224, 224))\n",
    "        # 'RGBA', 'P', 'LA' 이 있으면 RGB로 변환\n",
    "        if img.mode in ['RGBA', 'P', 'LA']:\n",
    "            img = img.convert('RGB')\n",
    "\n",
    "        # 새로 저장할 파일의 이름을 .jpg 확장자로 변경\n",
    "        new_file_name = f\"{folder}_{idx+1}.jpg\"\n",
    "\n",
    "        # 변경한 이미지를 새로운 디렉토리에 .jpg 확장자로 저장\n",
    "        img.save(os.path.join(output_folder_path, new_file_name), 'JPEG')\n",
    "\n",
    "print(\"All images processed and saved!\")"
   ]
  },
  {
   "cell_type": "code",
   "execution_count": null,
   "id": "9c014d77-09a8-455f-8afe-f5f6b81c7136",
   "metadata": {},
   "outputs": [],
   "source": []
  }
 ],
 "metadata": {
  "kernelspec": {
   "display_name": "busan_main",
   "language": "python",
   "name": "busan_main"
  },
  "language_info": {
   "codemirror_mode": {
    "name": "ipython",
    "version": 3
   },
   "file_extension": ".py",
   "mimetype": "text/x-python",
   "name": "python",
   "nbconvert_exporter": "python",
   "pygments_lexer": "ipython3",
   "version": "3.10.13"
  }
 },
 "nbformat": 4,
 "nbformat_minor": 5
}
