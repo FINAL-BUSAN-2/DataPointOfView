{
 "cells": [
  {
   "cell_type": "code",
   "execution_count": 4,
   "metadata": {},
   "outputs": [],
   "source": [
    "### 사용할 라이브러리\n",
    "import pandas as pd\n",
    "from bs4 import BeautifulSoup\n",
    "import requests\n",
    "from tqdm import tqdm"
   ]
  },
  {
   "cell_type": "code",
   "execution_count": 2,
   "metadata": {},
   "outputs": [],
   "source": [
    "def makeUrl(search):\n",
    "    url = f'https://search.naver.com/search.naver?where=news&query={search}&sm=tab_opt&sort=1'\n",
    "    return url\n",
    "headers = {\"User-Agent\": \"Mozilla/5.0 (Windows NT 10.0; Win64; x64) Chrome/98.0.4758.102\"}"
   ]
  },
  {
   "cell_type": "code",
   "execution_count": 5,
   "metadata": {},
   "outputs": [
    {
     "data": {
      "text/html": [
       "<div>\n",
       "<style scoped>\n",
       "    .dataframe tbody tr th:only-of-type {\n",
       "        vertical-align: middle;\n",
       "    }\n",
       "\n",
       "    .dataframe tbody tr th {\n",
       "        vertical-align: top;\n",
       "    }\n",
       "\n",
       "    .dataframe thead th {\n",
       "        text-align: right;\n",
       "    }\n",
       "</style>\n",
       "<table border=\"1\" class=\"dataframe\">\n",
       "  <thead>\n",
       "    <tr style=\"text-align: right;\">\n",
       "      <th></th>\n",
       "      <th>title</th>\n",
       "      <th>href</th>\n",
       "      <th>img</th>\n",
       "    </tr>\n",
       "  </thead>\n",
       "  <tbody>\n",
       "    <tr>\n",
       "      <th>0</th>\n",
       "      <td>'K-FOOD' 미래 발효식품 한자리에</td>\n",
       "      <td>http://www.jjn.co.kr/news/articleView.html?idx...</td>\n",
       "      <td>data:image/gif;base64,R0lGODlhAQABAIAAAAAAAP//...</td>\n",
       "    </tr>\n",
       "    <tr>\n",
       "      <th>1</th>\n",
       "      <td>닥터다니엘, '아누카' 탈모샴푸 출시 기념 할인 이벤트 진행</td>\n",
       "      <td>http://www.sisunnews.co.kr/news/articleView.ht...</td>\n",
       "      <td>data:image/gif;base64,R0lGODlhAQABAIAAAAAAAP//...</td>\n",
       "    </tr>\n",
       "    <tr>\n",
       "      <th>2</th>\n",
       "      <td>[18일 제약·바이오 소식] 동아ST·한림제약, 점안제·개량신약 수출 업무협약...</td>\n",
       "      <td>https://www.viva100.com/main/view.php?key=2023...</td>\n",
       "      <td>data:image/gif;base64,R0lGODlhAQABAIAAAAAAAP//...</td>\n",
       "    </tr>\n",
       "    <tr>\n",
       "      <th>3</th>\n",
       "      <td>보령컨슈머헬스케어, ‘어골해조칼슘 마그네슘 비타민D’ 출시</td>\n",
       "      <td>https://www.mediapen.com/news/view/863804</td>\n",
       "      <td>data:image/gif;base64,R0lGODlhAQABAIAAAAAAAP//...</td>\n",
       "    </tr>\n",
       "    <tr>\n",
       "      <th>4</th>\n",
       "      <td>이삼오구 ‘웰릿’, ‘이뮨베라’ 10차 완판 기록 공식몰 할인 혜택</td>\n",
       "      <td>http://www.fashionbiz.co.kr/TN/?cate=2&amp;recom=2...</td>\n",
       "      <td>data:image/gif;base64,R0lGODlhAQABAIAAAAAAAP//...</td>\n",
       "    </tr>\n",
       "  </tbody>\n",
       "</table>\n",
       "</div>"
      ],
      "text/plain": [
       "                                            title  \\\n",
       "0                           'K-FOOD' 미래 발효식품 한자리에   \n",
       "1               닥터다니엘, '아누카' 탈모샴푸 출시 기념 할인 이벤트 진행   \n",
       "2  [18일 제약·바이오 소식] 동아ST·한림제약, 점안제·개량신약 수출 업무협약...   \n",
       "3                보령컨슈머헬스케어, ‘어골해조칼슘 마그네슘 비타민D’ 출시   \n",
       "4           이삼오구 ‘웰릿’, ‘이뮨베라’ 10차 완판 기록 공식몰 할인 혜택   \n",
       "\n",
       "                                                href  \\\n",
       "0  http://www.jjn.co.kr/news/articleView.html?idx...   \n",
       "1  http://www.sisunnews.co.kr/news/articleView.ht...   \n",
       "2  https://www.viva100.com/main/view.php?key=2023...   \n",
       "3          https://www.mediapen.com/news/view/863804   \n",
       "4  http://www.fashionbiz.co.kr/TN/?cate=2&recom=2...   \n",
       "\n",
       "                                                 img  \n",
       "0  data:image/gif;base64,R0lGODlhAQABAIAAAAAAAP//...  \n",
       "1  data:image/gif;base64,R0lGODlhAQABAIAAAAAAAP//...  \n",
       "2  data:image/gif;base64,R0lGODlhAQABAIAAAAAAAP//...  \n",
       "3  data:image/gif;base64,R0lGODlhAQABAIAAAAAAAP//...  \n",
       "4  data:image/gif;base64,R0lGODlhAQABAIAAAAAAAP//...  "
      ]
     },
     "execution_count": 5,
     "metadata": {},
     "output_type": "execute_result"
    }
   ],
   "source": [
    "search = '건강기능식품'\n",
    "news = requests.get(makeUrl(search),headers=headers)\n",
    "news_html = BeautifulSoup(news.text,\"html.parser\")\n",
    "news_list = []\n",
    "for i in range(5) :\n",
    "    title = news_html.select_one(f\"#sp_nws{i+1} > div > div > a\").get_text()\n",
    "    href = news_html.select_one(f\"#sp_nws{i+1} > div > div > a\")[\"href\"]\n",
    "    img = news_html.select_one(f'#sp_nws{i+1} > div > a > img')['src']\n",
    "    news_list.append({'title':title,'href':href,'img':img})\n",
    "df = pd.DataFrame(news_list)\n",
    "df"
   ]
  },
  {
   "cell_type": "code",
   "execution_count": null,
   "metadata": {},
   "outputs": [],
   "source": []
  }
 ],
 "metadata": {
  "kernelspec": {
   "display_name": "ntlk_kernel",
   "language": "python",
   "name": "nltk"
  },
  "language_info": {
   "codemirror_mode": {
    "name": "ipython",
    "version": 3
   },
   "file_extension": ".py",
   "mimetype": "text/x-python",
   "name": "python",
   "nbconvert_exporter": "python",
   "pygments_lexer": "ipython3",
   "version": "3.9.17"
  }
 },
 "nbformat": 4,
 "nbformat_minor": 2
}
